import pandas as pd
import numpy as np
from sklearn.neighbors import NearestNeighbors


print("hello world")


ratings = pd.read_csv("../data/raw/ml-latest-small/ratings.csv")


ratings.head()


movies = pd.read_csv("../data/raw/ml-latest-small/movies.csv")


movies.head()


tags = pd.read_csv("../data/raw/ml-latest-small/tags.csv")


tags.head()


tags_dict = tags.groupby("movieId")["tag"].apply(list).to_dict()


mv_data = ratings.merge(movies, on="movieId")


mv_data.head()


user_matrix = ratings.pivot(index = ["userId"], columns = ["movieId"], values = "rating").fillna(0)


user_matrix


knn_model = NearestNeighbors(metric = "cosine", algorithm = "brute", n_neighbors = 10, n_jobs = -1)


knn_model.fit(user_matrix)


def recommendation(mv_namef , user_matrix, model, n_recommendations):
    mv_id = movies.loc[movies["title"].str.contains(mv_name, case=False)]["movieId"].values[0]
    existing_users = user_matrix[user_matrix[mv_id] > 0].index
    existing_ratings = user_matrix.loc[existing_users]
    distances, indicies = model.kneighbors(existing_ratings, n_neighbors = n_recommendations)
    mv_recs = sorted(list(zip(indicies.squeeze().tolist(), distances.squeeze().tolist())), key = lambda x : x[1])[:0:-1]
    res = list()
    for mv in mv_recs:
        res.append({"Title": movies["title"][mv[0]], "distance": mv[1]})
    df = pd.DataFrame(res)[:n_recommendations]
    df.index += 1
    return df


df = recommendation("Inception", user_matrix, knn_model, 10)


df["Title"].iloc[0]


df["Title"]



